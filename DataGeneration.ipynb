{
  "cells": [
    {
      "cell_type": "markdown",
      "metadata": {
        "id": "yyGH5fKIpQb0"
      },
      "source": [
        "# **ML Based Curvature Estimation Within a VOF Framework - Data Generation**\n",
        "\n"
      ]
    },
    {
      "cell_type": "code",
      "execution_count": 1,
      "metadata": {
        "id": "Ix2burVz-_Dk"
      },
      "outputs": [],
      "source": [
        "# Import All Needed Libraries\n",
        "import numpy as np\n",
        "import pandas as pd\n",
        "\n",
        "import math\n",
        "import random\n",
        "\n",
        "import matplotlib.pyplot as plt\n",
        "from mpl_toolkits.mplot3d import Axes3D"
      ]
    },
    {
      "cell_type": "markdown",
      "metadata": {
        "id": "mJHC-5Ubwvip"
      },
      "source": [
        "# Generate Grid"
      ]
    },
    {
      "cell_type": "markdown",
      "metadata": {
        "id": "CDl-61vEZesE"
      },
      "source": [
        "2D Grid Generation Function that generates a simple 2D orthogonal grid.\n"
      ]
    },
    {
      "cell_type": "code",
      "execution_count": 2,
      "metadata": {
        "id": "UH1rvq1bwz-U"
      },
      "outputs": [],
      "source": [
        "def genGrid2D(nx, ny, xsize, ysize, plotNow=True, checkNow=True):\n",
        "\n",
        "    dx = xsize / nx\n",
        "    dy = ysize / ny\n",
        "\n",
        "    # Generate grid points\n",
        "    x = np.linspace(0, xsize, nx+1)\n",
        "    y = np.linspace(0, ysize, ny+1)\n",
        "\n",
        "    # Create 2D grid\n",
        "    X, Y = np.meshgrid(x, y, indexing='xy')\n",
        "\n",
        "    # Flatten the grid points\n",
        "    gridPts = np.column_stack((X.ravel(order='C'), Y.ravel(order='C')))\n",
        "\n",
        "    # Locate centroids\n",
        "    Centroids = []\n",
        "    for i in range(ny):\n",
        "        for j in range(nx):\n",
        "            centroid_x = (X[i, j] + X[i+1, j] + X[i, j+1] + X[i+1, j+1]) / 4\n",
        "            centroid_y = (Y[i, j] + Y[i+1, j] + Y[i, j+1] + Y[i+1, j+1]) / 4\n",
        "            Centroids.append([centroid_x, centroid_y])\n",
        "\n",
        "    Centroids = np.array(Centroids)\n",
        "    numElems = len(Centroids)\n",
        "\n",
        "    # Plot Grid\n",
        "    if plotNow == True:\n",
        "      plotGridAndCentroids(gridPts, Centroids, nx, ny, plotNow=True)\n",
        "\n",
        "    # Check Sample Indicies of Grid\n",
        "    if checkNow == True:\n",
        "      checkIdxs(gridPts, Centroids, nx, ny, checkNow=True)\n",
        "\n",
        "    return dx, dy, gridPts, Centroids, numElems"
      ]
    },
    {
      "cell_type": "markdown",
      "metadata": {
        "id": "w73SXAJcZnfU"
      },
      "source": [
        "Plotting Function to visualize generated grid, shows grid points and centroids."
      ]
    },
    {
      "cell_type": "code",
      "execution_count": 7,
      "metadata": {
        "id": "p_fnFOX0-K8Y"
      },
      "outputs": [],
      "source": [
        "def plotGridAndCentroids(gridPts, Centroids, nx, ny, plotNow=True):\n",
        "  if plotNow == True:\n",
        "      # Initialize the plot\n",
        "        fig, ax = plt.subplots()\n",
        "\n",
        "        # Plot horizontal lines\n",
        "        for j in range(nx + 1):\n",
        "            ax.plot(gridPts[j::nx+1, 0], gridPts[j::nx+1, 1], 'b--', linewidth=1)\n",
        "        # Plot vertical lines\n",
        "        for i in range(ny + 1):\n",
        "            ax.plot(gridPts[i*(nx+1):(i+1)*(nx+1), 0], gridPts[i*(nx+1):(i+1)*(nx+1), 1], 'b--', linewidth=1)\n",
        "\n",
        "        # Scatter the centroids and gridpts\n",
        "        ax.scatter(gridPts[:,0], gridPts[:,1], s=10, color='black', label='Grid Points')\n",
        "        ax.scatter(Centroids[:,0], Centroids[:,1], s=10, color='red', label='Centroids')\n",
        "        ax.set_xlim(0, max(gridPts[:,0]))\n",
        "        ax.set_ylim(0, max(gridPts[:,1]))\n",
        "        ax.set_xlabel('X')\n",
        "        ax.set_ylabel('Y')\n",
        "        ax.set_title('2D Grid')\n",
        "        ax.legend()\n",
        "        plt.show()"
      ]
    },
    {
      "cell_type": "markdown",
      "metadata": {
        "id": "M8s8kDkEZySX"
      },
      "source": [
        "Check Indicies Function to check sample indicies from generated grid point array to ensure correct use of these arrays later."
      ]
    },
    {
      "cell_type": "code",
      "execution_count": 8,
      "metadata": {
        "id": "AkzGvt5k4eF7"
      },
      "outputs": [],
      "source": [
        "def checkIdxs(gridPts, Centroids, nx, ny, checkNow=True):\n",
        "  if checkNow == True:\n",
        "    for i in range(ny):\n",
        "        for j in range(nx):\n",
        "            index = i * nx + j\n",
        "            bottomLeftIdx = i * (nx + 1) + j                 # P1\n",
        "            bottomRightIdx = i * (nx + 1) + (j + 1)          # P2\n",
        "            topLeftIdx = (i + 1) * (nx + 1) + j              # P3\n",
        "            topRightIdx = (i + 1) * (nx + 1) + (j + 1)       # P4\n",
        "            if index ==0:\n",
        "              print(\"Element Index:\",index)\n",
        "              print(\"Bottom Left GridPt Index:\", bottomLeftIdx, \"-- Coordinates:\", \"(\", gridPts[bottomLeftIdx][0], \",\", gridPts[bottomLeftIdx][1], \")\")\n",
        "              print(\"Bottom Right GridPt Index:\", bottomRightIdx, \"-- Coordinates:\", \"(\", gridPts[bottomRightIdx][0], \",\", gridPts[bottomRightIdx][1], \")\")\n",
        "              print(\"Top Left GridPt Index:\", topLeftIdx, \"-- Coordinates:\", \"(\", gridPts[topLeftIdx][0], \",\", gridPts[topLeftIdx][1], \")\")\n",
        "              print(\"Top Right GridPt Index:\", topRightIdx, \"-- Coordinates:\", \"(\", gridPts[topRightIdx][0], \",\", gridPts[topRightIdx][1], \")\")\n",
        "\n",
        "            if index == nx*ny-1:\n",
        "              print(\"Element Index:\",index)\n",
        "              print(\"Bottom Left GridPt Index:\", bottomLeftIdx, \"-- Coordinates:\", \"(\", gridPts[bottomLeftIdx][0], \",\", gridPts[bottomLeftIdx][1], \")\")\n",
        "              print(\"Bottom Right GridPt Index:\", bottomRightIdx, \"-- Coordinates:\", \"(\", gridPts[bottomRightIdx][0], \",\", gridPts[bottomRightIdx][1], \")\")\n",
        "              print(\"Top Left GridPt Index:\", topLeftIdx, \"-- Coordinates:\", \"(\", gridPts[topLeftIdx][0], \",\", gridPts[topLeftIdx][1], \")\")\n",
        "              print(\"Top Right GridPt Index:\", topRightIdx, \"-- Coordinates:\", \"(\", gridPts[topRightIdx][0], \",\", gridPts[topRightIdx][1], \")\")\n"
      ]
    },
    {
      "cell_type": "markdown",
      "metadata": {
        "id": "THM3XLTaaLn-"
      },
      "source": [
        "Test Run on a simple coarse grid:"
      ]
    },
    {
      "cell_type": "code",
      "execution_count": 10,
      "metadata": {
        "colab": {
          "base_uri": "https://localhost:8080/",
          "height": 646
        },
        "id": "KCiI45LM_Xx_",
        "outputId": "c0873c7d-3d06-47ea-8e89-6c29d37790d1"
      },
      "outputs": [
        {
          "output_type": "display_data",
          "data": {
            "text/plain": [
              "<Figure size 640x480 with 1 Axes>"
            ],
            "image/png": "[encoded data removed]"
          },
          "metadata": {}
        },
        {
          "output_type": "stream",
          "name": "stdout",
          "text": [
            "Element Index: 0\n",
            "Bottom Left GridPt Index: 0 -- Coordinates: ( 0.0 , 0.0 )\n",
            "Bottom Right GridPt Index: 1 -- Coordinates: ( 1.0 , 0.0 )\n",
            "Top Left GridPt Index: 21 -- Coordinates: ( 0.0 , 1.0 )\n",
            "Top Right GridPt Index: 22 -- Coordinates: ( 1.0 , 1.0 )\n",
            "Element Index: 199\n",
            "Bottom Left GridPt Index: 208 -- Coordinates: ( 19.0 , 9.0 )\n",
            "Bottom Right GridPt Index: 209 -- Coordinates: ( 20.0 , 9.0 )\n",
            "Top Left GridPt Index: 229 -- Coordinates: ( 19.0 , 10.0 )\n",
            "Top Right GridPt Index: 230 -- Coordinates: ( 20.0 , 10.0 )\n"
          ]
        }
      ],
      "source": [
        "# Define grid parameters\n",
        "nx = 20\n",
        "ny = 10\n",
        "xsize = 20\n",
        "ysize = 10\n",
        "\n",
        "# Generate Grid\n",
        "dx, dy, gridPts, Centroids, numElems =genGrid2D(nx, ny, xsize, ysize, plotNow=True, checkNow=True)\n",
        "# Note:\n",
        "#   plotNow can be set to False if user does not want to plot gridPts.\n",
        "#   checkNow can be set to False if user does not want to print some indicies"
      ]
    },
    {
      "cell_type": "markdown",
      "metadata": {
        "id": "K7BN8Q7u_hit"
      },
      "source": [
        "# Generate Circular Interfaces"
      ]
    },
    {
      "cell_type": "markdown",
      "metadata": {
        "id": "_I3f9640qYBc"
      },
      "source": [
        "Generate a VOF Field based on a circular interface with pre-defined center and radius. Linear approximation of VOF field in each cell based on Euclidean distances from circle center to cell corners."
      ]
    },
    {
      "cell_type": "code",
      "execution_count": 11,
      "metadata": {
        "id": "oZK8XvA5Bs1a"
      },
      "outputs": [],
      "source": [
        "def genVOFCircularField(dx, dy, nx, ny, numElems, gridPts, Centroids, circleCenter, R, plotNow=True):\n",
        "    # Initialize volume fraction array\n",
        "    volFracField = np.zeros((numElems,1))\n",
        "\n",
        "    # Compute volume fraction\n",
        "    for i in range(ny):\n",
        "        for j in range(nx):\n",
        "            index = i * nx + j\n",
        "\n",
        "            # Step 1 : Calcualte Distances from Corners to Center\n",
        "            # Indicies\n",
        "            bottomLeftIdx = i * (nx + 1) + j                 # P1\n",
        "            bottomRightIdx = i * (nx + 1) + (j + 1)          # P2\n",
        "            topLeftIdx = (i + 1) * (nx + 1) + j              # P3\n",
        "            topRightIdx = (i + 1) * (nx + 1) + (j + 1)       # P4\n",
        "            # Distancies\n",
        "            OP1 = math.sqrt((gridPts[topLeftIdx][0]-circleCenter[0])**2 + (gridPts[topLeftIdx][1]-circleCenter[1])**2)\n",
        "            OP2 = math.sqrt((gridPts[topRightIdx][0]-circleCenter[0])**2 + (gridPts[topRightIdx][1]-circleCenter[1])**2)\n",
        "            OP3 = math.sqrt((gridPts[bottomLeftIdx][0]-circleCenter[0])**2 + (gridPts[bottomLeftIdx][1]-circleCenter[1])**2)\n",
        "            OP4 = math.sqrt((gridPts[bottomRightIdx][0]-circleCenter[0])**2 + (gridPts[bottomRightIdx][1]-circleCenter[1])**2)\n",
        "\n",
        "            # Step 2: Find max\n",
        "            maxOP = max(OP1,OP2,OP3,OP4)\n",
        "\n",
        "            # Step 3: Find min\n",
        "            minOP = min(OP1,OP2,OP3,OP4)\n",
        "\n",
        "            # Step 4: Estimate Volume Fraction\n",
        "            if maxOP <= R:\n",
        "              volFracField[index] = 1\n",
        "            elif minOP >= R:\n",
        "              volFracField[index] = 0\n",
        "            else : # min<R && max>R ==> Interfacial Element\n",
        "              volFracField[index] = (R-minOP) / (maxOP-minOP)\n",
        "\n",
        "    # Processing VolField before saving\n",
        "    volFracField = np.round(volFracField, decimals=6)\n",
        "\n",
        "    # Plot the contour of volume fraction\n",
        "    if plotNow ==True:\n",
        "      plotVOFField(Centroids, gridPts, nx,ny, volFracField, plotNow=True)\n",
        "\n",
        "    return volFracField"
      ]
    },
    {
      "cell_type": "markdown",
      "metadata": {
        "id": "l8TzokbTrCVm"
      },
      "source": [
        "Plot contours of generated VOF field for visualization"
      ]
    },
    {
      "cell_type": "code",
      "execution_count": 12,
      "metadata": {
        "id": "gUqYYQoFbqzo"
      },
      "outputs": [],
      "source": [
        "def plotVOFField(Centroids, gridPts, nx,ny, volFracField, plotNow=True):\n",
        "      if plotNow ==True:\n",
        "        # Initialize the plot\n",
        "        fig, ax = plt.subplots()\n",
        "\n",
        "        contour = ax.contourf(Centroids[:,0].reshape((ny, nx)), Centroids[:,1].reshape((ny, nx)), volFracField.reshape((ny, nx)), levels=[0,0.1,0.2 ,0.3,0.4,0.5,0.6,0.7,0.8,0.9,1], cmap='coolwarm')\n",
        "        ax.set_xlim(min(gridPts[:,0]),max(gridPts[:,0]))\n",
        "        ax.set_ylim(min(gridPts[:,1]),max(gridPts[:,1]))\n",
        "        ax.set_xlabel('X')\n",
        "        ax.set_ylabel('Y')\n",
        "        cbar = plt.colorbar(contour, ax=ax)\n",
        "        ax.set_title('Contours of Volume Fraction')\n",
        "        ax.set_aspect('equal', adjustable='box')\n",
        "        plt.show()"
      ]
    },
    {
      "cell_type": "markdown",
      "metadata": {
        "id": "i5aEfrhlCbH_"
      },
      "source": [
        "Test Run on a sample Circular Interface"
      ]
    },
    {
      "cell_type": "code",
      "execution_count": 14,
      "metadata": {
        "colab": {
          "base_uri": "https://localhost:8080/",
          "height": 420
        },
        "id": "vfWKaFanyWvE",
        "outputId": "ab86a909-b02a-404d-d1ef-04b97fd95ef7"
      },
      "outputs": [
        {
          "output_type": "display_data",
          "data": {
            "text/plain": [
              "<Figure size 640x480 with 2 Axes>"
            ],
            "image/png": "[encoded data removed]"
          },
          "metadata": {}
        }
      ],
      "source": [
        "# Define ellipse center\n",
        "circleCenter = [10, 5]\n",
        "\n",
        "# Given parameters\n",
        "R = 3\n",
        "\n",
        "# Generate Volume Fraction Fields\n",
        "volFracField = genVOFCircularField(dx, dy, nx, ny, numElems, gridPts, Centroids, circleCenter, R, plotNow=True)\n",
        "# Note:\n",
        "#   plotNow can be set to False if user would not like to visualize VOF contour\n",
        "#   VOF is calcualted for all elements within domain, even boundary elems, however, sometimes boundnary elements are not shown in contour. This is a visual representation bug only."
      ]
    },
    {
      "cell_type": "markdown",
      "source": [
        "Save VOF Field if Needed"
      ],
      "metadata": {
        "id": "OlIv-NhPjOsy"
      }
    },
    {
      "cell_type": "code",
      "source": [
        "saveVOF = False\n",
        "\n",
        "if saveVOF ==True:\n",
        "    # convert to pandas framework first\n",
        "    df_vof = pd.DataFrame(volFracField)\n",
        "    print(\"Shape of the dataset:\", df_vof.shape)\n",
        "\n",
        "    df_vof.to_excel('VOF_FIELD.xlsx', index=False)\n",
        "\n",
        "    from google.colab import files\n",
        "    files.download('VOF_FIELD.xlsx')"
      ],
      "metadata": {
        "id": "H8c1gJFjiWUq"
      },
      "execution_count": 18,
      "outputs": []
    },
    {
      "cell_type": "markdown",
      "metadata": {
        "id": "cHlWhLu5Y3ff"
      },
      "source": [
        "# Randomized Dataset Generation"
      ]
    },
    {
      "cell_type": "code",
      "execution_count": 21,
      "metadata": {
        "id": "UnHzQikEaL_-"
      },
      "outputs": [],
      "source": [
        "# Generate Grid\n",
        "nx = 100\n",
        "ny = 100\n",
        "xsize = 1\n",
        "ysize = 1\n",
        "dx, dy, gridPts, Centroids, numElems =genGrid2D(nx, ny, xsize, ysize, plotNow=False, checkNow=False)\n",
        "\n",
        "# Needed Input\n",
        "Rmin = dx * 4\n",
        "Rmax = dx * 1000\n",
        "\n",
        "XC = 0.5\n",
        "YC = 0.5\n",
        "NS = 100 # Data set size\n",
        "\n",
        "stencilRadiusSize = 1"
      ]
    },
    {
      "cell_type": "markdown",
      "metadata": {
        "id": "tX4JCzine8vo"
      },
      "source": [
        "Generate a random dataset of NS examples."
      ]
    },
    {
      "cell_type": "code",
      "execution_count": 22,
      "metadata": {
        "id": "DyfhQbmPcuz0",
        "colab": {
          "base_uri": "https://localhost:8080/"
        },
        "outputId": "7c925cd0-7412-40e8-9ac5-ea1f2a1722ed"
      },
      "outputs": [
        {
          "output_type": "stream",
          "name": "stdout",
          "text": [
            "Generation progress: 10% completed.\n",
            "Generation progress: 20% completed.\n",
            "Generation progress: 30% completed.\n",
            "Generation progress: 40% completed.\n",
            "Generation progress: 50% completed.\n",
            "Generation progress: 60% completed.\n",
            "Generation progress: 70% completed.\n",
            "Generation progress: 80% completed.\n",
            "Generation progress: 90% completed.\n",
            "Generation progress: 95% completed.\n",
            "Generation progress: 99% completed.\n",
            "Generation progress: 100% completed.\n"
          ]
        }
      ],
      "source": [
        "# Initialize\n",
        "dataset = []\n",
        "randomVars = []\n",
        "volFracField = []\n",
        "\n",
        "milestones = {10,20,30,40,50,60,70,80,90,95,99,100} # For printing progress\n",
        "\n",
        "random.seed(1)\n",
        "while len(dataset) < NS:\n",
        "    # Step 1: Choose a seed to start generating random numbers\n",
        "    # Set the seed if reproducibility is needed\n",
        "    #\n",
        "    # Generate a random number with uniform distribution between 0 and 1\n",
        "    ## U = random.uniform(0, 1)\n",
        "\n",
        "\n",
        "    # Step 2: Calculate the random radius R\n",
        "    R = Rmin + random.uniform(0, 1) * (Rmax - Rmin)\n",
        "\n",
        "\n",
        "    # Step 3: Calculat Random Circle Center\n",
        "    Xs = XC + random.uniform(0, 1) * dx\n",
        "    Ys = YC + random.uniform(0, 1) * dy\n",
        "    circleCenter = [Xs,Ys]\n",
        "\n",
        "    # Step 4: Calculate Random azimuth angle (theta)\n",
        "    theta = 2 * math.pi * random.uniform(0, 1)\n",
        "\n",
        "\n",
        "    # Step 5: Calculate coordinates of the point on the spherical interface\n",
        "    Xp = Xs + R * math.cos(theta)\n",
        "    Yp = Ys + R * math.sin(theta)\n",
        "\n",
        "\n",
        "    # Step 6: Find the indices of the Cartesian cell in which the point (x, y) lies\n",
        "    ptFoundFlag = False\n",
        "    # Compute volume fraction\n",
        "    for i in range(ny):\n",
        "        for j in range(nx):\n",
        "            index = i * nx + j\n",
        "            # Indicies\n",
        "            bottomLeftIdx = i * (nx + 1) + j                 # P1\n",
        "            bottomRightIdx = i * (nx + 1) + (j + 1)          # P2\n",
        "            topLeftIdx = (i + 1) * (nx + 1) + j              # P3\n",
        "            topRightIdx = (i + 1) * (nx + 1) + (j + 1)       # P4\n",
        "            # Locate\n",
        "            if (Xp >= gridPts[bottomLeftIdx][0] and Xp <= gridPts[bottomRightIdx][0] and Yp >= gridPts[bottomLeftIdx][1] and Yp <= gridPts[topLeftIdx][1]):\n",
        "                ip = i\n",
        "                jp = j\n",
        "                ptFoundFlag = True\n",
        "                break\n",
        "    if ptFoundFlag == False:\n",
        "      continue\n",
        "\n",
        "\n",
        "    # Save random vars for analysis\n",
        "    randomVars.append((R, Xs, Ys, theta, Xp, Yp))\n",
        "\n",
        "\n",
        "    # Step 7: Compute Volume Fraction and Curvature\n",
        "    volFracField = genVOFCircularField(dx, dy, nx, ny, numElems, gridPts, Centroids, circleCenter, R, plotNow=False)\n",
        "    curvature = 1 / R if R != 0 else 0\n",
        "    curvature = curvature*dx\n",
        "\n",
        "    # Create slices to get the neighborhood around (ip, jp). Handle edge cases by taking min/max with grid size.\n",
        "    i_min = max(ip - stencilRadiusSize, 0)\n",
        "    i_max = min(ip + stencilRadiusSize + 1, ny)\n",
        "    j_min = max(jp - stencilRadiusSize, 0)\n",
        "    j_max = min(jp + stencilRadiusSize + 1, nx)\n",
        "\n",
        "    # Extract stencil\n",
        "    volFracStencil = volFracField.reshape(ny, nx)[i_max-1:i_min-1:-1,j_min:j_max]\n",
        "\n",
        "    if volFracStencil.shape != (2*stencilRadiusSize+1, 2*stencilRadiusSize+1):\n",
        "      continue\n",
        "        # # Fill with NaN for initial identification of out-of-bounds\n",
        "        # paddedStencil = np.empty((2*stencilRadiusSize+1, 2*stencilRadiusSize+1))\n",
        "        # paddedStencil.fill(np.nan)\n",
        "        # # Copy existing values into the padded neighborhood\n",
        "        # paddedStencil[:volFracStencil.shape[0], :volFracStencil.shape[1]] = volFracStencil\n",
        "        # # Replace NaN with values from surrounding cells\n",
        "        # for i in range(2*stencilRadiusSize+1):\n",
        "        #     for j in range(2*stencilRadiusSize+1):\n",
        "        #         if np.isnan(paddedStencil[i, j]):\n",
        "        #             # Check row above\n",
        "        #             if i > 0 and not np.isnan(paddedStencil[i-1, j]):\n",
        "        #                 paddedStencil[i, j] = paddedStencil[i-1, j]\n",
        "        #             # Check row below\n",
        "        #             elif i < 2 and not np.isnan(paddedStencil[i+1, j]):\n",
        "        #                 paddedStencil[i, j] = paddedStencil[i+1, j]\n",
        "        #             # Check column left\n",
        "        #             if j > 0 and not np.isnan(paddedStencil[i, j-1]):\n",
        "        #                 paddedStencil[i, j] = paddedStencil[i, j-1]\n",
        "        #             # Check column right\n",
        "        #             elif j < 2 and not np.isnan(paddedStencil[i, j+1]):\n",
        "        #                 paddedStencil[i, j] = paddedStencil[i, j+1]\n",
        "        # volFracStencil = paddedStencil\n",
        "\n",
        "\n",
        "    # Step 8: Flip Signs\n",
        "    flipRandomly = np.random.rand() > 0.5\n",
        "    if flipRandomly:\n",
        "        curvature = -curvature\n",
        "        # Invert each cell in the neighborhood volume fraction matrix\n",
        "        for i in range(2*stencilRadiusSize+1):\n",
        "          for j in range(2*stencilRadiusSize+1):\n",
        "            volFracStencil[i, j] = 1 - volFracStencil[i, j]\n",
        "\n",
        "\n",
        "    # Step 9: Save stencil in dataset\n",
        "    dataset.append((volFracStencil, curvature))\n",
        "\n",
        "    # Update and Print Progress\n",
        "    genPercentage = (len(dataset)/NS)*100\n",
        "    if int(genPercentage) in milestones:\n",
        "        print(f\"Generation progress: {int(genPercentage)}% completed.\")\n",
        "        milestones.remove(int(genPercentage))\n",
        "\n",
        "# Step 10: repeat\n"
      ]
    },
    {
      "cell_type": "markdown",
      "metadata": {
        "id": "3N49ANwIZstD"
      },
      "source": [
        "Save generated dataSet in excel to be used later."
      ]
    },
    {
      "cell_type": "code",
      "execution_count": 23,
      "metadata": {
        "id": "gKYPiaXQqYDr",
        "colab": {
          "base_uri": "https://localhost:8080/",
          "height": 34
        },
        "outputId": "1a0f1b81-76e3-4e56-a290-7a030850d762"
      },
      "outputs": [
        {
          "output_type": "stream",
          "name": "stdout",
          "text": [
            "Shape of the dataset: (100, 26)\n"
          ]
        },
        {
          "output_type": "display_data",
          "data": {
            "text/plain": [
              "<IPython.core.display.Javascript object>"
            ],
            "application/javascript": [
              "\n",
              "    async function download(id, filename, size) {\n",
              "      if (!google.colab.kernel.accessAllowed) {\n",
              "        return;\n",
              "      }\n",
              "      const div = document.createElement('div');\n",
              "      const label = document.createElement('label');\n",
              "      label.textContent = `Downloading \"${filename}\": `;\n",
              "      div.appendChild(label);\n",
              "      const progress = document.createElement('progress');\n",
              "      progress.max = size;\n",
              "      div.appendChild(progress);\n",
              "      document.body.appendChild(div);\n",
              "\n",
              "      const buffers = [];\n",
              "      let downloaded = 0;\n",
              "\n",
              "      const channel = await google.colab.kernel.comms.open(id);\n",
              "      // Send a message to notify the kernel that we're ready.\n",
              "      channel.send({})\n",
              "\n",
              "      for await (const message of channel.messages) {\n",
              "        // Send a message to notify the kernel that we're ready.\n",
              "        channel.send({})\n",
              "        if (message.buffers) {\n",
              "          for (const buffer of message.buffers) {\n",
              "            buffers.push(buffer);\n",
              "            downloaded += buffer.byteLength;\n",
              "            progress.value = downloaded;\n",
              "          }\n",
              "        }\n",
              "      }\n",
              "      const blob = new Blob(buffers, {type: 'application/binary'});\n",
              "      const a = document.createElement('a');\n",
              "      a.href = window.URL.createObjectURL(blob);\n",
              "      a.download = filename;\n",
              "      div.appendChild(a);\n",
              "      a.click();\n",
              "      div.remove();\n",
              "    }\n",
              "  "
            ]
          },
          "metadata": {}
        },
        {
          "output_type": "display_data",
          "data": {
            "text/plain": [
              "<IPython.core.display.Javascript object>"
            ],
            "application/javascript": [
              "download(\"download_abcd0463-fa00-41ba-8b1e-efa32fa29795\", \"Ds1.xlsx\", 17031)"
            ]
          },
          "metadata": {}
        }
      ],
      "source": [
        "# convert to pandas framework first\n",
        "data_formatted = [np.append(arr.flatten(), curvature) for arr, curvature in dataset]\n",
        "df = pd.DataFrame(data_formatted, columns=[f'Cell{i+1}' for i in range((2*stencilRadiusSize+1)**2)] + ['Curvature'])\n",
        "print(\"Shape of the dataset:\", df.shape)\n",
        "\n",
        "df.to_excel('Ds1.xlsx', index=False)\n",
        "\n",
        "from google.colab import files\n",
        "files.download('Ds1.xlsx')"
      ]
    },
    {
      "cell_type": "markdown",
      "metadata": {
        "id": "9nJXdL1HX9LU"
      },
      "source": [
        "# Visualization of Random Variables Distribution"
      ]
    },
    {
      "cell_type": "code",
      "execution_count": 24,
      "metadata": {
        "id": "v2dc6JdNTFRS",
        "colab": {
          "base_uri": "https://localhost:8080/",
          "height": 17
        },
        "outputId": "b33b8ad7-cde4-4234-91f2-aef38537a496"
      },
      "outputs": [
        {
          "output_type": "display_data",
          "data": {
            "text/plain": [
              "<IPython.core.display.Javascript object>"
            ],
            "application/javascript": [
              "\n",
              "    async function download(id, filename, size) {\n",
              "      if (!google.colab.kernel.accessAllowed) {\n",
              "        return;\n",
              "      }\n",
              "      const div = document.createElement('div');\n",
              "      const label = document.createElement('label');\n",
              "      label.textContent = `Downloading \"${filename}\": `;\n",
              "      div.appendChild(label);\n",
              "      const progress = document.createElement('progress');\n",
              "      progress.max = size;\n",
              "      div.appendChild(progress);\n",
              "      document.body.appendChild(div);\n",
              "\n",
              "      const buffers = [];\n",
              "      let downloaded = 0;\n",
              "\n",
              "      const channel = await google.colab.kernel.comms.open(id);\n",
              "      // Send a message to notify the kernel that we're ready.\n",
              "      channel.send({})\n",
              "\n",
              "      for await (const message of channel.messages) {\n",
              "        // Send a message to notify the kernel that we're ready.\n",
              "        channel.send({})\n",
              "        if (message.buffers) {\n",
              "          for (const buffer of message.buffers) {\n",
              "            buffers.push(buffer);\n",
              "            downloaded += buffer.byteLength;\n",
              "            progress.value = downloaded;\n",
              "          }\n",
              "        }\n",
              "      }\n",
              "      const blob = new Blob(buffers, {type: 'application/binary'});\n",
              "      const a = document.createElement('a');\n",
              "      a.href = window.URL.createObjectURL(blob);\n",
              "      a.download = filename;\n",
              "      div.appendChild(a);\n",
              "      a.click();\n",
              "      div.remove();\n",
              "    }\n",
              "  "
            ]
          },
          "metadata": {}
        },
        {
          "output_type": "display_data",
          "data": {
            "text/plain": [
              "<IPython.core.display.Javascript object>"
            ],
            "application/javascript": [
              "download(\"download_ec5ba2dc-ec30-485c-bc37-63d36e5d4efb\", \"RandomVars_Ds1.csv\", 12119)"
            ]
          },
          "metadata": {}
        }
      ],
      "source": [
        "## Save Random Vars used\n",
        "# Convert to DataFrame for easy handling\n",
        "columns = ['R', 'Xs', 'Ys', 'Theta', 'Xp', 'Yp']\n",
        "dfVars = pd.DataFrame(randomVars, columns=columns)\n",
        "\n",
        "# Optional: Save DataFrame to CSV for later use\n",
        "dfVars.to_csv('RandomVars_Ds1.csv', index=False)\n",
        "\n",
        "from google.colab import files\n",
        "files.download('RandomVars_Ds1.csv')"
      ]
    },
    {
      "cell_type": "markdown",
      "metadata": {
        "id": "zCc5q7R1YK-x"
      },
      "source": [
        "R/dx vs Frequency Plot"
      ]
    },
    {
      "cell_type": "code",
      "execution_count": 30,
      "metadata": {
        "id": "0AxW8RhBU-Z5",
        "colab": {
          "base_uri": "https://localhost:8080/",
          "height": 568
        },
        "outputId": "e0a9598a-a9f7-4df1-8580-901c04c9e9f7"
      },
      "outputs": [
        {
          "output_type": "display_data",
          "data": {
            "text/plain": [
              "<IPython.core.display.Javascript object>"
            ],
            "application/javascript": [
              "\n",
              "    async function download(id, filename, size) {\n",
              "      if (!google.colab.kernel.accessAllowed) {\n",
              "        return;\n",
              "      }\n",
              "      const div = document.createElement('div');\n",
              "      const label = document.createElement('label');\n",
              "      label.textContent = `Downloading \"${filename}\": `;\n",
              "      div.appendChild(label);\n",
              "      const progress = document.createElement('progress');\n",
              "      progress.max = size;\n",
              "      div.appendChild(progress);\n",
              "      document.body.appendChild(div);\n",
              "\n",
              "      const buffers = [];\n",
              "      let downloaded = 0;\n",
              "\n",
              "      const channel = await google.colab.kernel.comms.open(id);\n",
              "      // Send a message to notify the kernel that we're ready.\n",
              "      channel.send({})\n",
              "\n",
              "      for await (const message of channel.messages) {\n",
              "        // Send a message to notify the kernel that we're ready.\n",
              "        channel.send({})\n",
              "        if (message.buffers) {\n",
              "          for (const buffer of message.buffers) {\n",
              "            buffers.push(buffer);\n",
              "            downloaded += buffer.byteLength;\n",
              "            progress.value = downloaded;\n",
              "          }\n",
              "        }\n",
              "      }\n",
              "      const blob = new Blob(buffers, {type: 'application/binary'});\n",
              "      const a = document.createElement('a');\n",
              "      a.href = window.URL.createObjectURL(blob);\n",
              "      a.download = filename;\n",
              "      div.appendChild(a);\n",
              "      a.click();\n",
              "      div.remove();\n",
              "    }\n",
              "  "
            ]
          },
          "metadata": {}
        },
        {
          "output_type": "display_data",
          "data": {
            "text/plain": [
              "<IPython.core.display.Javascript object>"
            ],
            "application/javascript": [
              "download(\"download_f356a264-8ca8-43ac-89e7-fe73157d924d\", \"Histogram_of_R_over_dx.png\", 14665)"
            ]
          },
          "metadata": {}
        },
        {
          "output_type": "display_data",
          "data": {
            "text/plain": [
              "<Figure size 1000x600 with 1 Axes>"
            ],
            "image/png": "[encoded data removed]"
          },
          "metadata": {}
        }
      ],
      "source": [
        "saveRpdx = True   # Save Figure?\n",
        "\n",
        "dfVars['R_over_dx'] = dfVars['R'] / dx\n",
        "\n",
        "plt.figure(figsize=(10, 6))\n",
        "plt.hist(dfVars['R_over_dx'], bins=20, color='blue', alpha=0.7)  # Adjust bins as needed\n",
        "plt.title('Histogram of $R/dx$')\n",
        "plt.xlabel('$R/dx$')\n",
        "plt.ylabel('Frequency')\n",
        "plt.grid(True)\n",
        "\n",
        "if saveRpdx:\n",
        "  plt.savefig('Histogram_of_R_over_dx.png')  # Save the figure\n",
        "  files.download('Histogram_of_R_over_dx.png')  # Download the figure"
      ]
    },
    {
      "cell_type": "markdown",
      "metadata": {
        "id": "yOYXd4ZSYOxp"
      },
      "source": [
        "Circle Center Distribution Plot"
      ]
    },
    {
      "cell_type": "code",
      "execution_count": 26,
      "metadata": {
        "id": "MMIyyz8tVQJM",
        "colab": {
          "base_uri": "https://localhost:8080/",
          "height": 718
        },
        "outputId": "a586b2b6-5474-4a8c-fb8f-e15513a0bcaf"
      },
      "outputs": [
        {
          "output_type": "display_data",
          "data": {
            "text/plain": [
              "<IPython.core.display.Javascript object>"
            ],
            "application/javascript": [
              "\n",
              "    async function download(id, filename, size) {\n",
              "      if (!google.colab.kernel.accessAllowed) {\n",
              "        return;\n",
              "      }\n",
              "      const div = document.createElement('div');\n",
              "      const label = document.createElement('label');\n",
              "      label.textContent = `Downloading \"${filename}\": `;\n",
              "      div.appendChild(label);\n",
              "      const progress = document.createElement('progress');\n",
              "      progress.max = size;\n",
              "      div.appendChild(progress);\n",
              "      document.body.appendChild(div);\n",
              "\n",
              "      const buffers = [];\n",
              "      let downloaded = 0;\n",
              "\n",
              "      const channel = await google.colab.kernel.comms.open(id);\n",
              "      // Send a message to notify the kernel that we're ready.\n",
              "      channel.send({})\n",
              "\n",
              "      for await (const message of channel.messages) {\n",
              "        // Send a message to notify the kernel that we're ready.\n",
              "        channel.send({})\n",
              "        if (message.buffers) {\n",
              "          for (const buffer of message.buffers) {\n",
              "            buffers.push(buffer);\n",
              "            downloaded += buffer.byteLength;\n",
              "            progress.value = downloaded;\n",
              "          }\n",
              "        }\n",
              "      }\n",
              "      const blob = new Blob(buffers, {type: 'application/binary'});\n",
              "      const a = document.createElement('a');\n",
              "      a.href = window.URL.createObjectURL(blob);\n",
              "      a.download = filename;\n",
              "      div.appendChild(a);\n",
              "      a.click();\n",
              "      div.remove();\n",
              "    }\n",
              "  "
            ]
          },
          "metadata": {}
        },
        {
          "output_type": "display_data",
          "data": {
            "text/plain": [
              "<IPython.core.display.Javascript object>"
            ],
            "application/javascript": [
              "download(\"download_712f96d8-d7ff-41a3-88e3-56ff6c4209a3\", \"Circle Center.png\", 28121)"
            ]
          },
          "metadata": {}
        },
        {
          "output_type": "display_data",
          "data": {
            "text/plain": [
              "<Figure size 800x800 with 1 Axes>"
            ],
            "image/png": "[encoded data removed]"
          },
          "metadata": {}
        }
      ],
      "source": [
        "saveCCD = True    # Save Figure?\n",
        "\n",
        "plt.figure(figsize=(8, 8))\n",
        "plt.scatter(dfVars['Xs'], dfVars['Ys'], alpha=0.6, edgecolors='w', color='blue')\n",
        "plt.title('Circle Centers Distribution within a Cell')\n",
        "plt.xlabel('Xs')\n",
        "plt.ylabel('Ys')\n",
        "plt.grid(True)\n",
        "plt.xlim(XC,XC + dx)\n",
        "plt.ylim(YC,YC + dy)\n",
        "\n",
        "if saveCCD:\n",
        "  plt.savefig('Circle Center.png')\n",
        "  files.download('Circle Center.png')"
      ]
    },
    {
      "cell_type": "markdown",
      "metadata": {
        "id": "8NnWwuupYSpz"
      },
      "source": [
        "Theta Vs Frequency Plot"
      ]
    },
    {
      "cell_type": "code",
      "execution_count": 32,
      "metadata": {
        "id": "ULdzSGpbWqwK",
        "colab": {
          "base_uri": "https://localhost:8080/",
          "height": 578
        },
        "outputId": "23edc3b0-c7f6-4eea-b9fa-689374295ec3"
      },
      "outputs": [
        {
          "output_type": "display_data",
          "data": {
            "text/plain": [
              "<IPython.core.display.Javascript object>"
            ],
            "application/javascript": [
              "\n",
              "    async function download(id, filename, size) {\n",
              "      if (!google.colab.kernel.accessAllowed) {\n",
              "        return;\n",
              "      }\n",
              "      const div = document.createElement('div');\n",
              "      const label = document.createElement('label');\n",
              "      label.textContent = `Downloading \"${filename}\": `;\n",
              "      div.appendChild(label);\n",
              "      const progress = document.createElement('progress');\n",
              "      progress.max = size;\n",
              "      div.appendChild(progress);\n",
              "      document.body.appendChild(div);\n",
              "\n",
              "      const buffers = [];\n",
              "      let downloaded = 0;\n",
              "\n",
              "      const channel = await google.colab.kernel.comms.open(id);\n",
              "      // Send a message to notify the kernel that we're ready.\n",
              "      channel.send({})\n",
              "\n",
              "      for await (const message of channel.messages) {\n",
              "        // Send a message to notify the kernel that we're ready.\n",
              "        channel.send({})\n",
              "        if (message.buffers) {\n",
              "          for (const buffer of message.buffers) {\n",
              "            buffers.push(buffer);\n",
              "            downloaded += buffer.byteLength;\n",
              "            progress.value = downloaded;\n",
              "          }\n",
              "        }\n",
              "      }\n",
              "      const blob = new Blob(buffers, {type: 'application/binary'});\n",
              "      const a = document.createElement('a');\n",
              "      a.href = window.URL.createObjectURL(blob);\n",
              "      a.download = filename;\n",
              "      div.appendChild(a);\n",
              "      a.click();\n",
              "      div.remove();\n",
              "    }\n",
              "  "
            ]
          },
          "metadata": {}
        },
        {
          "output_type": "display_data",
          "data": {
            "text/plain": [
              "<IPython.core.display.Javascript object>"
            ],
            "application/javascript": [
              "download(\"download_81dc44a1-f633-4c11-aa40-bf0293ceced0\", \"Theta.png\", 15621)"
            ]
          },
          "metadata": {}
        },
        {
          "output_type": "display_data",
          "data": {
            "text/plain": [
              "<Figure size 1000x600 with 1 Axes>"
            ],
            "image/png": "[encoded data removed]"
          },
          "metadata": {}
        }
      ],
      "source": [
        "saveTheta = True # Save Figure?\n",
        "\n",
        "plt.figure(figsize=(10, 6))\n",
        "plt.hist(dfVars['Theta'], bins=20, color='blue', alpha=0.7, edgecolor='black')\n",
        "plt.title('Histogram of $\\\\theta$')\n",
        "plt.xlabel('$\\\\theta$ (radians)')\n",
        "plt.ylabel('Frequency')\n",
        "plt.grid(True)\n",
        "plt.xticks([0, np.pi/2, np.pi, 3*np.pi/2, 2*np.pi], ['0', '$\\\\frac{\\\\pi}{2}$', '$\\\\pi$', '$\\\\frac{3\\\\pi}{2}$', '$2\\\\pi$'])\n",
        "\n",
        "if saveTheta:\n",
        "    plt.savefig('Theta.png')\n",
        "    files.download('Theta.png')"
      ]
    }
  ],
  "metadata": {
    "colab": {
      "provenance": [],
      "toc_visible": true
    },
    "kernelspec": {
      "display_name": "Python 3",
      "name": "python3"
    },
    "language_info": {
      "name": "python"
    }
  },
  "nbformat": 4,
  "nbformat_minor": 0
}